{
 "cells": [
  {
   "cell_type": "markdown",
   "metadata": {},
   "source": [
    "<div style=\"text-align: center;\">\n",
    "  <img src=\"https://github.com/Hack-io-Data/Imagenes/blob/main/01-LogosHackio/logo_celeste@4x.png?raw=true\" alt=\"esquema\" />\n",
    "</div>"
   ]
  },
  {
   "cell_type": "markdown",
   "metadata": {},
   "source": [
    "\n",
    "#### Genera un dicionario con los nombres, apellidos y empresas de la siguinete lista de correos. \n",
    "\n",
    "Te deberá quedar un diccionario parecido al que se muestra a continuación: \n",
    "\n",
    "![resultado](https://github.com/Hack-io-Data/Imagenes/blob/main/04-Prework/Python/diccionario-bonus-strings.png?raw=true)"
   ]
  },
  {
   "cell_type": "code",
   "execution_count": 1,
   "metadata": {},
   "outputs": [
    {
     "name": "stdout",
     "output_type": "stream",
     "text": [
      "{'nombres': ['John', 'Jane', 'Jim', 'Mary', 'Bob', 'Alice', 'Tom', 'Sally', 'Jerry', 'Beth', 'John', 'Jane', 'Jim', 'Mary', 'Bob'], 'apellidos': ['Doe', 'Doe', 'Smith', 'Jane', 'Jones', 'Smith', 'Jones', 'Jones', 'Smith', 'Jones', 'Smith', 'Doe', 'Jones', 'Smith', 'Doe'], 'empresas': ['Tecnologiainnovadora', 'Empresatecnologica', 'Solucionesdigitales', 'Tecnologiapionera', 'Innovaciontecnologica', 'Desarrollotecnologico', 'Tecnologiadinamica', 'Tecnologiamoderna', 'Solucionestech', 'Tecnologiavanguardista', 'Tecnologiasavanzadas', 'Empresadigital', 'Tecnologiadinamica', 'Innovaciondigital', 'Solucionesinformaticas']}\n"
     ]
    }
   ],
   "source": [
    "a = \"\"\"john.doe@tecnologiainnovadora.com\n",
    "jane.doe@empresatecnologica.com\n",
    "jim.smith@solucionesdigitales.com\n",
    "mary.jane@tecnologiapionera.com\n",
    "bob.jones@innovaciontecnologica.com\n",
    "alice.smith@desarrollotecnologico.com\n",
    "tom.jones@tecnologiadinamica.com\n",
    "sally.jones@tecnologiamoderna.com\n",
    "jerry.smith@solucionestech.com\n",
    "beth.jones@tecnologiavanguardista.com\n",
    "john.smith@tecnologiasavanzadas.com\n",
    "jane.doe@empresadigital.com\n",
    "jim.jones@tecnologiadinamica.com\n",
    "mary.smith@innovaciondigital.com\n",
    "bob.doe@solucionesinformaticas.com\n",
    "\"\"\"\n",
    "emails = a.split()\n",
    "\n",
    "result = {\n",
    "    \"nombres\": [],\n",
    "    \"apellidos\": [],\n",
    "    \"empresas\": []\n",
    "}\n",
    "\n",
    "for email in emails:\n",
    "    local_part, domain = email.split('@')\n",
    "    first_name, last_name = local_part.split('.')\n",
    "    company = domain.split('.')[0]\n",
    "\n",
    "    result[\"nombres\"].append(first_name.capitalize())\n",
    "    result[\"apellidos\"].append(last_name.capitalize())\n",
    "    result[\"empresas\"].append(company.capitalize())\n",
    "\n",
    "print(result)"
   ]
  }
 ],
 "metadata": {
  "kernelspec": {
   "display_name": "Python 3",
   "language": "python",
   "name": "python3"
  },
  "language_info": {
   "codemirror_mode": {
    "name": "ipython",
    "version": 3
   },
   "file_extension": ".py",
   "mimetype": "text/x-python",
   "name": "python",
   "nbconvert_exporter": "python",
   "pygments_lexer": "ipython3",
   "version": "3.11.7"
  }
 },
 "nbformat": 4,
 "nbformat_minor": 2
}
