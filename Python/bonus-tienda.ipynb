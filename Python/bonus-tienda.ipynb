{
 "cells": [
  {
   "cell_type": "markdown",
   "metadata": {},
   "source": [
    "<div style=\"text-align: center;\">\n",
    "  <img src=\"https://github.com/Hack-io-Data/Imagenes/blob/main/01-LogosHackio/logo_celeste@4x.png?raw=true\" alt=\"esquema\" />\n",
    "</div>\n"
   ]
  },
  {
   "cell_type": "markdown",
   "metadata": {},
   "source": [
    "En este ejercicio, se te pedirá que escribas un programa en Python que utilice condicionales para determinar el monto final de una compra en una tienda en línea, después de aplicar un descuento. El programa debe hacer lo siguiente:\n",
    "\n",
    "1. Solicita al usuario que ingrese el precio original de un artículo.\n",
    "\n",
    "2. Pregunta al usuario si tiene un cupón de descuento (respuesta sí o no).\n",
    "\n",
    "3. Si el usuario responde que sí, solicita que ingrese el valor del cupón de descuento.\n",
    "\n",
    "4. Aplica el descuento al precio original del artículo, siempre y cuando el valor del cupón sea válido (es decir, mayor a cero). Por ejemplo, descuento de 15€. \n",
    "\n",
    "5. Muestra el precio final de la compra, teniendo en cuenta el descuento aplicado o sin él. \n",
    "\n",
    "6. Recuerda utilizar estructuras de control de flujo como if, elif y else para llevar a cabo estas acciones en tu programa de Python."
   ]
  },
  {
   "cell_type": "code",
   "execution_count": null,
   "metadata": {},
   "outputs": [
    {
     "name": "stdout",
     "output_type": "stream",
     "text": [
      "El precia final de la compra es:  10.00€\n",
      "El precia final de la compra es:  10.00€\n"
     ]
    }
   ],
   "source": [
    "#1\n",
    "precio_original = float(input(\"Ingresa el precio original del artículo: \"))\n",
    "\n",
    "#2\n",
    "tiene_cupon = input(\"¿Tienes un cupón de descuento? (sí/no): \").strip().lower()\n",
    "\n",
    "#3\n",
    "descuento = 0\n",
    "\n",
    "if tiene_cupon == \"sí\":\n",
    "    valor_cupon = float(input(\"Ingresa el valor del cupón de descuento: \"))\n",
    "    if valor_cupon > 0:\n",
    "        descuento = valor_cupon\n",
    "\n",
    "\n",
    "#4\n",
    "precio_final = precio_original - descuento\n",
    "\n",
    "if precio_final < 0:\n",
    "    precio_final = 0\n",
    "\n",
    "#5\n",
    "print(f\"El precia final de la compra es: {precio_final: .2f}€\")"
   ]
  },
  {
   "cell_type": "markdown",
   "metadata": {},
   "source": [
    "Modifica el programa anterior para que el usuario ingrese un porcentaje de descuento en lugar de un valor fijo (por ejemplo, 30%). Aplica el descuento en base al porcentaje ingresado."
   ]
  },
  {
   "cell_type": "code",
   "execution_count": null,
   "metadata": {},
   "outputs": [],
   "source": [
    "\n",
    "precio_original = float(input(\"Ingresa el precio original del artículo: \"))\n",
    "\n",
    "tiene_cupon = input(\"¿Tienes un cupón de descuento? (sí/no): \").strip().lower()\n",
    "\n",
    "descuento = 0\n",
    "\n",
    "if tiene_cupon == \"sí\":\n",
    "    porcentaje_descuento = float(input(\"Ingresa el valor del cupón de descuento: \"))\n",
    "    if porcentaje_descuento > 0:\n",
    "        descuento = precio_original * (porcentaje_descuento / 100)\n",
    "\n",
    "\n",
    "precio_final = precio_original - descuento\n",
    "\n",
    "if precio_final < 0:\n",
    "    precio_final = 0\n",
    "\n",
    "print(f\"El precia final de la compra es: {precio_final: .2f}€\")"
   ]
  },
  {
   "cell_type": "markdown",
   "metadata": {},
   "source": [
    "Modifica el programa anterior agregando un límite al descuento, donde el descuento mínimo sea del 5% y el máximo del 50%. Si el usuario ingresa un porcentaje fuera de este rango, notifíquele y aplique el descuento mínimo o máximo según sea el caso."
   ]
  },
  {
   "cell_type": "code",
   "execution_count": null,
   "metadata": {},
   "outputs": [],
   "source": [
    "precio_original = float(input(\"Ingresa el precio original del artículo: \"))\n",
    "\n",
    "tiene_cupon = input(\"¿Tienes un cupón de descuento? (sí/no): \").strip().lower()\n",
    "\n",
    "descuento = 0\n",
    "\n",
    "if tiene_cupon == \"sí\":\n",
    "    porcentaje_descuento = float(input(\"Ingresa el valor del cupón de descuento: \"))\n",
    "    if porcentaje_descuento < 5:\n",
    "        print(\"El porcentaje de descuento es muy bajo. Se aplicará un 5%. \")\n",
    "        porcentaje_descuento =5\n",
    "    elif porcentaje_descuento > 50:\n",
    "        print(\"El porcentaje de descuento es muy alto. Se aplicará un 50%. \")\n",
    "        porcentaje_descuento = 50\n",
    "\n",
    "    descuento = precio_original * (porcentaje_descuento / 100)\n",
    "\n",
    "precio_final = precio_original - descuento\n",
    "\n",
    "if precio_final < 0:\n",
    "    precio_final = 0\n",
    "\n",
    "print(f\"El precia final de la compra es: {precio_final: .2f}€\")"
   ]
  },
  {
   "cell_type": "markdown",
   "metadata": {},
   "source": [
    "Crea un programa nuevo que permita al usuario ingresar varios artículos, cada uno con su precio original y cupón de descuento. Aplica los descuentos correspondientes a cada producto y muestra el monto total final de la compra."
   ]
  },
  {
   "cell_type": "code",
   "execution_count": null,
   "metadata": {},
   "outputs": [],
   "source": [
    "total_final = 0\n",
    "\n",
    "while True:\n",
    "    precio_original = float(input(\"ingrese el precio original del artículo (o 0 para finalizar): \"))\n",
    "\n",
    "    if precio_original == 0:\n",
    "        break\n",
    "\n",
    "    tiene_cupon = input(\"¿Tienes un cupón de descuento? (sí/no): \").strip().lower()\n",
    "\n",
    "    descuento = 0\n",
    "\n",
    "    if tiene_cupon == \"sí\":\n",
    "        valor_cupon = float(input(\"Ingresa el valor del cupón de descuento: \"))\n",
    "        if valor_cupon > 0:\n",
    "            descuento = valor_cupon\n",
    "\n",
    "\n",
    "\n",
    "    precio_final = precio_original - descuento\n",
    "\n",
    "    if precio_final < 0:\n",
    "        precio_final = 0\n",
    "\n",
    "print(f\"El precia final de la compra es: {precio_final: .2f}€\")"
   ]
  },
  {
   "cell_type": "markdown",
   "metadata": {},
   "source": [
    "Crea un nuevo programa que permita aplicar descuentos por categorías. En este caso, nuestra tienda aplicará descuentos en función de la categoría (por ejemplo, electrónica, ropa, juguetes). Pregunta al usuario a que categoría pertenece su producto y aplica el descuento correspondiente a la categoría. Debes solicitar al usuario que ingrese la categoría del articulo y el precio para aplicarle el descuento. "
   ]
  },
  {
   "cell_type": "code",
   "execution_count": null,
   "metadata": {},
   "outputs": [],
   "source": [
    "descuentos_categoria ={\n",
    "    \"electronica\": 10,\n",
    "    \"ropa\": 20,\n",
    "    \"juguetes\": 15\n",
    "}\n",
    "\n",
    "categoria = input(\"Ingrese la categoría del artículo (electronica, ropa, juguetes): \").strip().lower()\n",
    "\n",
    "precio_original = float(input(\"Ingrese el precio original del artículo: \"))\n",
    "\n",
    "if categoria in descuentos_categoria:\n",
    "    porcentaje_descuento = descuentos_categoria[categoria]\n",
    "else:\n",
    "    porcentaje_descuento = 0\n",
    "\n",
    "descuento = precio_original * (porcentaje_descuento / 100)\n",
    "precio_original = precio_original - descuento\n",
    "\n",
    "if precio_final < 0 :\n",
    "    precio_final = 0\n",
    "\n",
    "print(f\"El precia final de la compra es: {precio_final: .2f}€\")"
   ]
  },
  {
   "cell_type": "markdown",
   "metadata": {},
   "source": [
    "Crea un nuevo programa que aplique descuentos automáticos en función de la fecha actual. Aplica un descuento del 10% en compras realizadas entre lunes y viernes o un descuento del 15% en compras realizadas durante los fines de semana."
   ]
  },
  {
   "cell_type": "code",
   "execution_count": null,
   "metadata": {},
   "outputs": [],
   "source": [
    "import datetime\n",
    "\n",
    "precio_original= float(input(\"Ingrese el precio original del artículo: \"))\n",
    "\n",
    "dia_actual = datetime.datetime.today().weekday()\n",
    "\n",
    "if dia_actual in range(0, 5): #lunes a viernes (0-4)\n",
    "    porcentaje_descuento = 10\n",
    "else: # sábado y domingo (5-6)\n",
    "    porcentaje_descuento = 15\n",
    "\n",
    "descuento = precio_original*(porcentaje_descuento / 100)\n",
    "precio_final = precio_original - descuento\n",
    "\n",
    "print(f\"El precia final de la compra es: {precio_final: .2f}€\")"
   ]
  },
  {
   "cell_type": "markdown",
   "metadata": {},
   "source": [
    "Crea un programa nuevo que implemente un sistema de membresía donde los usuarios registrados obtengan un descuento adicional del 5%. Solicita al usuario que ingrese su nombre de usuario y contraseña para verificar su membresía y aplique el descuento adicional si corresponde. \n",
    "\n",
    "📝 Nota: Para este ejercicio solo tendremos un usuario registrado. El usuario es `USUARIO` y la contraseña es  `USUARIO123`. \n"
   ]
  },
  {
   "cell_type": "code",
   "execution_count": null,
   "metadata": {},
   "outputs": [],
   "source": [
    "usuario_registrado = \"USUARIO\" \n",
    "contrasena_registrada = \"USUARIO123\"\n",
    "\n",
    "precio_original= float(input(\"Ingrese el precio original del artículo: \"))\n",
    "\n",
    "tiene_cupon = input(\"¿Tienes un cupón de descuento? (sí/no): \").strip().lower()\n",
    "\n",
    "descuento = 0\n",
    "\n",
    "\n",
    "if tiene_cupon == \"sí\":\n",
    "    valor_cupon = float(input(\"Ingresa el valor del cupón de descuento: \"))\n",
    "    if valor_cupon > 0:\n",
    "        descuento = valor_cupon\n",
    "\n",
    "\n",
    "\n",
    "precio_final = precio_original - descuento\n",
    "\n",
    "if precio_final < 0:\n",
    "    precio_final = 0\n",
    "\n",
    "unsuario = input(\"Ingrese su nombre de usuario: \")\n",
    "contrasena = input(\"Ingrese su contraseña: \")\n",
    "\n",
    "if unsuario == usuario_registrado and contrasena == contrasena_registrada:\n",
    "    print(\"Membresía verificada. Se aplicará un decuento adicional del 5%. \")\n",
    "    precio_final *= 0.95\n",
    "else:\n",
    "    print(\"Membresía no verificada. No se aplicará el descuento adicional. \")\n",
    "\n",
    "print(f\"El precia final de la compra es: {precio_final: .2f}€\")\n",
    "\n"
   ]
  },
  {
   "cell_type": "markdown",
   "metadata": {},
   "source": [
    "Crea un nuevo programa que ofrezca un descuento del 10% adicional si el usuario compra más de 5 artículos del mismo tipo. Debes verificar la cantidad de productos comprados y aplicar el descuento adicional si corresponde.\n"
   ]
  },
  {
   "cell_type": "code",
   "execution_count": null,
   "metadata": {},
   "outputs": [],
   "source": [
    "precio_original = float(input(\"Ingrese el precio original del artículo: \"))\n",
    "\n",
    "cantidad_articulos = int(input(\"Ingrese la cantidad de artículos comprados: \"))\n",
    "\n",
    "tiene_cupon = input(\"¿Tienes un cupón de descuento? (sí/no): \").strip().lower()\n",
    "\n",
    "descuento = 0\n",
    "\n",
    "if tiene_cupon == \"sí\":\n",
    "    porcentaje_descuento = float(input(\"Ingresa el porcentaje del cupón de descuento (por ejemplo, 30): \"))\n",
    "    if porcentaje_descuento > 0:\n",
    "        descuento = porcentaje_descuento * (porcentaje_descuento / 100)\n",
    "\n",
    "precio_final = precio_original - descuento\n",
    "\n",
    "if precio_final < 0:\n",
    "    precio_final = 0\n",
    "\n",
    "if cantidad_articulos > 5:\n",
    "    precio_final *= 0.90\n",
    "\n",
    "total_final = precio_final * cantidad_articulos\n",
    "\n",
    "print(f\"El monto final de la compra es: {total_final: .2f}€\")"
   ]
  },
  {
   "cell_type": "markdown",
   "metadata": {},
   "source": [
    "Crea un nuevo programa que ofrezca descuentos progresivos en función del volumen de compra. Aplica un descuento del 5% para compras entre 100€ y 200€, un descuento del 10% para compras entre 200€ y 500€ y un descuento del 15% para compras superiores a 500€."
   ]
  },
  {
   "cell_type": "code",
   "execution_count": null,
   "metadata": {},
   "outputs": [],
   "source": [
    "precio_total = float(input(\"Ingrese el precio total de la compra: \"))\n",
    "\n",
    "if 100 <= precio_total < 200:\n",
    "    porcentaje_descuento = 5\n",
    "elif 200 <= precio_total < 500:\n",
    "    porcentaje_descuento = 10\n",
    "elif precio_total >= 500:\n",
    "    porcentaje_descuento = 15\n",
    "else:\n",
    "    porcentaje_descuento = 0\n",
    "\n",
    "descuento = precio_total * (porcentaje_descuento / 100)\n",
    "precio_final = precio_total - descuento\n",
    "\n",
    "print(f\"El precio final de la compra es: {precio_final: .2f}€\")"
   ]
  },
  {
   "cell_type": "markdown",
   "metadata": {},
   "source": [
    "Crea un nuevo programa  que ofrezca un descuento adicional del 3% si el usuario paga con tarjeta de crédito o débito. Solicita al usuario que ingrese el método de pago y el descuento original, por último aplica el descuento si corresponde."
   ]
  },
  {
   "cell_type": "code",
   "execution_count": null,
   "metadata": {},
   "outputs": [],
   "source": [
    "precio_total= float(input(\"Ingrese el precio total de la compra: \"))\n",
    "\n",
    "tiene_cupon = input(\"¿Tienes un cupón de descuento? (sí/no): \").strip().lower()\n",
    "\n",
    "descuento = 0\n",
    "\n",
    "if tiene_cupon == \"sí\":\n",
    "    porcentaje_descuento = float(input(\"Ingresa el porcentaje del cupón de descuento (por ejemplo, 30): \"))\n",
    "    if porcentaje_descuento > 0:\n",
    "        descuento = porcentaje_descuento * (porcentaje_descuento / 100)\n",
    "\n",
    "precio_final = precio_total - descuento\n",
    "\n",
    "if precio_final < 0:\n",
    "    precio_final = 0\n",
    "\n",
    "metodo_pago = input(\"ingrese el método de pago(tarjeta de crédito, tarjeta de débito, efectivo): \").strip().lower()\n",
    "\n",
    "if metodo_pago in [\"tarjeta de crédito\", \"tarjeta de débito\"]:\n",
    "    precio_final *= 0.97\n",
    "\n",
    "print(f\"El precio final de la compra es: {precio_final: .2f}€\")"
   ]
  }
 ],
 "metadata": {
  "kernelspec": {
   "display_name": "Python 3",
   "language": "python",
   "name": "python3"
  },
  "language_info": {
   "codemirror_mode": {
    "name": "ipython",
    "version": 3
   },
   "file_extension": ".py",
   "mimetype": "text/x-python",
   "name": "python",
   "nbconvert_exporter": "python",
   "pygments_lexer": "ipython3",
   "version": "3.11.7"
  }
 },
 "nbformat": 4,
 "nbformat_minor": 2
}
