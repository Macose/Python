{
 "cells": [
  {
   "cell_type": "markdown",
   "metadata": {},
   "source": [
    "<div style=\"text-align: center;\">\n",
    "  <img src=\"https://github.com/Hack-io-Data/Imagenes/blob/main/01-LogosHackio/logo_celeste@4x.png?raw=true\" alt=\"esquema\" />\n",
    "</div>\n"
   ]
  },
  {
   "cell_type": "markdown",
   "metadata": {},
   "source": [
    "# Ejercicio cTangana\n",
    "\n",
    "En este ejercicio tiene como objetivo principal que practiques y domines varias habilidades en Python, como la manipulación de *strings*, el uso de estructuras de datos como listas y diccionarios, y la implementación de técnicas básicas de conteo y ordenamiento. Los pasos que deberéis seguir para realizar este ejercicio son: \n",
    "\n",
    "1. Busca la letra de C. Tangana, Andrés Calamaro - Hong Kong y almacenala como una cadena de strings en `letra_cancion`.\n",
    "\n",
    "2. Crea una lista `palabras` utilizando `letra_cancion`.\n",
    "\n",
    "3. Crea un diccionario `frecuencia_palabras` en el que aparezca como claves cada una de las palabras de `letra_cancion` y sus valores que sea el numero de ocurrencia\n",
    "\n",
    "4. Ordena alfabeticamente las claves de `frecuencia_palabras` \n",
    "\n",
    "5. Crea un nuevo diccionario llamado `frecuencia_palabras2` con el orden obtenido en la pregunta 4.\n",
    "\n",
    "6. Ordenar los valores de `frecuencia_palabras2` de forma ascendente.\n",
    "\n",
    "***HINT***: Ordenar los valores de un diccionario es más complicado que ordenar las claves porque los valores de un diccionario no son únicos. Por lo tanto, no puedes usar la misma forma en que ordenaste las claves del diccionario para ordenar los valores del diccionario. La forma de ordenar un diccionario por valor es utilizar las funciones sorted y operator.itemgetter. \n"
   ]
  },
  {
   "cell_type": "code",
   "execution_count": null,
   "metadata": {
    "vscode": {
     "languageId": "plaintext"
    }
   },
   "outputs": [],
   "source": [
    "#1\n",
    "letra_cancion = \"\"\"  Con llevar todo\n",
    "Lo que no hay en Hong Kong no exi-\n",
    "Lo que no hay en Hong Kong es que no existe\n",
    "Salimos a la calle por tabaco\n",
    "Volvimos sin tabaco ni mechero\n",
    "Tomamos hasta el agua del florero\n",
    "Aquello fue peor que Puerto Hurraco\n",
    "Me cago en las personas que se rajan\n",
    "Muy antes de que se acabe la noche\n",
    "Peinábamos perico con navaja\n",
    "En el salpicadero de tu coche\n",
    "Tengo una flor en el culo\n",
    "Y un camello en Hong Kong\n",
    "Tengo un cohete en el pantalón\n",
    "Tengo una flor en el culo\n",
    "Y una geisha en Japón\n",
    "Tus banderillas en el corazón\n",
    "Hagamos que parezca un accidente\n",
    "Decirme que no tengo que ir a casa\n",
    "Espero que esto dure para siempre\n",
    "Sabemos qué es torear en peores plazas\n",
    "Historias que jamás pueden contarse\n",
    "Batallas que no pueden repetirse\n",
    "Victorias para el que supo quedarse\n",
    "¿Pa qué cojones sirve arrepentirse?\n",
    "Tengo una flor en el culo\n",
    "Y un camello en Hong Kong\n",
    "Tengo un cohete en el pantalón\n",
    "Tengo una flor en el culo\n",
    "Y una geisha en Japón\n",
    "Tus banderillas en el corazón\n",
    "Tengo una flor en el culo\n",
    "Y un camello en Hong Kong\n",
    "Tengo un cohete en el pantalón\n",
    "Tengo una flor en el culo\n",
    "Y una geisha en Japón\n",
    "Tus banderillas en el corazón \"\"\"\n",
    "\n",
    "#2\n",
    "palabras = letra_cancion.lower().split()\n",
    "print(palabras)\n",
    "\n",
    "#3\n",
    "from collections import defaultdict\n",
    "\n",
    "frecuencia_palabras= defaultdict(int)\n",
    "\n",
    "for palabra in palabras:\n",
    "    frecuencia_palabras[palabra] += 1\n",
    "\n",
    "print(frecuencia_palabras)\n",
    "\n",
    "#4\n",
    "claves_ordenadas = sorted(frecuencia_palabras.key())\n",
    "print(claves_ordenadas)\n",
    "\n",
    "#5\n",
    "frecuencia_palabras2 = {clave: frecuencia_palabras[clave] for clave in claves_ordenadas}\n",
    "print(frecuencia_palabras2)\n",
    "\n",
    "#6\n",
    "import operator\n",
    "frecuencia_ordenada = sorted(frecuencia_palabras2.item(). key=operator.itemgetter(1))\n",
    "frecuencia_palabras_ordenadas_por_valor = {item[0]: item[1] for item in frecuencia_ordenada}\n",
    "\n",
    "print(frecuencia_palabras_ordenadas_por_valor)"
   ]
  }
 ],
 "metadata": {
  "language_info": {
   "name": "python"
  }
 },
 "nbformat": 4,
 "nbformat_minor": 2
}
